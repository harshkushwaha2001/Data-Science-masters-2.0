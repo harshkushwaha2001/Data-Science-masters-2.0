{
 "cells": [
  {
   "cell_type": "markdown",
   "id": "212ebeb0",
   "metadata": {},
   "source": [
    "### Q1. Create one variable containing following type of data:\n",
    "(i) string<br>\n",
    "(ii) list<br>\n",
    "(iii) float<br>\n",
    "(iv) tuple<br>"
   ]
  },
  {
   "cell_type": "code",
   "execution_count": 3,
   "id": "1236a175",
   "metadata": {},
   "outputs": [],
   "source": [
    "a = \"string\"\n",
    "b = [\"apple\",\"ball\",1,2]\n",
    "c = 2.0\n",
    "d = (\"apple\",\"ball\",1,2)"
   ]
  },
  {
   "cell_type": "code",
   "execution_count": 8,
   "id": "48e2af4d",
   "metadata": {
    "scrolled": true
   },
   "outputs": [
    {
     "name": "stdout",
     "output_type": "stream",
     "text": [
      "type of variable a =<class 'str'>\n",
      "type of variable b =<class 'list'>\n",
      "type of variable c =<class 'float'>\n",
      "type of variable d =<class 'tuple'>\n",
      "\n"
     ]
    }
   ],
   "source": [
    "print(\"type of variable a ={}\\ntype of variable b ={}\\ntype of variable c ={}\\ntype of variable d ={}\\n\".format(type(a),type(b),type(c),type(d)))"
   ]
  },
  {
   "cell_type": "markdown",
   "id": "fcef8d00",
   "metadata": {},
   "source": [
    "### Q2. Given are some following variables containing data:\n",
    "(i) var1 = ‘ ‘<br>\n",
    "(ii) var2 = ‘[ DS , ML , Python]’<br>\n",
    "(iii) var3 = [ ‘DS’ , ’ML’ , ‘Python’ ]<br>\n",
    "(iv) var4 = 1.<br>\n",
    "<br>\n",
    "What will be the data type of the above given variable.<br>"
   ]
  },
  {
   "cell_type": "markdown",
   "id": "32823127",
   "metadata": {},
   "source": [
    "Answer :-<br>\n",
    "(i) var1 = string<br>\n",
    "(ii) var2 = string<br>\n",
    "(iii) var3 = list<br>\n",
    "(iv) var4 = float<br>\n"
   ]
  },
  {
   "cell_type": "markdown",
   "id": "bd0272ed",
   "metadata": {},
   "source": [
    "### Q3. Explain the use of the following operators using an example:\n",
    "(i) /<br>\n",
    "(ii) %<br>\n",
    "(iii) //<br>\n",
    "(iv) **<br>"
   ]
  },
  {
   "cell_type": "markdown",
   "id": "8b2bbc12",
   "metadata": {},
   "source": [
    "Answers: -"
   ]
  },
  {
   "cell_type": "markdown",
   "id": "5efa8949",
   "metadata": {},
   "source": [
    "(i) / : It is an Arithmetic operator called Division operator ,which is used to perform division of two numbers."
   ]
  },
  {
   "cell_type": "code",
   "execution_count": 13,
   "id": "4d366dfb",
   "metadata": {},
   "outputs": [
    {
     "data": {
      "text/plain": [
       "2.0"
      ]
     },
     "execution_count": 13,
     "metadata": {},
     "output_type": "execute_result"
    }
   ],
   "source": [
    "4 / 2"
   ]
  },
  {
   "cell_type": "code",
   "execution_count": 14,
   "id": "3bacc56f",
   "metadata": {},
   "outputs": [
    {
     "data": {
      "text/plain": [
       "1.5"
      ]
     },
     "execution_count": 14,
     "metadata": {},
     "output_type": "execute_result"
    }
   ],
   "source": [
    "3 / 2"
   ]
  },
  {
   "cell_type": "markdown",
   "id": "1e88edd8",
   "metadata": {},
   "source": [
    "(ii) % : It is an Arithmetic operator called Modulo operator, which is used to get Remainder of two numbers upon division operation.<br>\n",
    "     "
   ]
  },
  {
   "cell_type": "code",
   "execution_count": 15,
   "id": "74128178",
   "metadata": {},
   "outputs": [
    {
     "data": {
      "text/plain": [
       "0"
      ]
     },
     "execution_count": 15,
     "metadata": {},
     "output_type": "execute_result"
    }
   ],
   "source": [
    "4 % 2"
   ]
  },
  {
   "cell_type": "code",
   "execution_count": 16,
   "id": "c1d60710",
   "metadata": {},
   "outputs": [
    {
     "data": {
      "text/plain": [
       "1"
      ]
     },
     "execution_count": 16,
     "metadata": {},
     "output_type": "execute_result"
    }
   ],
   "source": [
    "3 % 2"
   ]
  },
  {
   "cell_type": "markdown",
   "id": "b7e90b6f",
   "metadata": {},
   "source": [
    "(iii) // : It is an Arithmetic operator called Floor Division operator, which is used to perform floor division of two numbers."
   ]
  },
  {
   "cell_type": "code",
   "execution_count": 17,
   "id": "beba6b5f",
   "metadata": {},
   "outputs": [
    {
     "data": {
      "text/plain": [
       "2"
      ]
     },
     "execution_count": 17,
     "metadata": {},
     "output_type": "execute_result"
    }
   ],
   "source": [
    "4 // 2"
   ]
  },
  {
   "cell_type": "code",
   "execution_count": 18,
   "id": "0f453084",
   "metadata": {},
   "outputs": [
    {
     "data": {
      "text/plain": [
       "1"
      ]
     },
     "execution_count": 18,
     "metadata": {},
     "output_type": "execute_result"
    }
   ],
   "source": [
    "3 // 2"
   ]
  },
  {
   "cell_type": "markdown",
   "id": "e9a3d75b",
   "metadata": {},
   "source": [
    "(iv) ** : It is an Arithmetic operator called Exponentiaton operator which is used to find exponentiation operation of two     numbers, that is finding value of a number raised to the power of another number."
   ]
  },
  {
   "cell_type": "code",
   "execution_count": 20,
   "id": "a75b7868",
   "metadata": {},
   "outputs": [
    {
     "data": {
      "text/plain": [
       "16"
      ]
     },
     "execution_count": 20,
     "metadata": {},
     "output_type": "execute_result"
    }
   ],
   "source": [
    "4 ** 2"
   ]
  },
  {
   "cell_type": "code",
   "execution_count": 21,
   "id": "f356b483",
   "metadata": {},
   "outputs": [
    {
     "data": {
      "text/plain": [
       "9"
      ]
     },
     "execution_count": 21,
     "metadata": {},
     "output_type": "execute_result"
    }
   ],
   "source": [
    "3 ** 2"
   ]
  },
  {
   "cell_type": "markdown",
   "id": "f0479878",
   "metadata": {},
   "source": [
    "### Q4. Create a list of length 10 of your choice containing multiple types of data. Using for loop print the element and its data type."
   ]
  },
  {
   "cell_type": "code",
   "execution_count": 39,
   "id": "c3ab2416",
   "metadata": {},
   "outputs": [
    {
     "name": "stdout",
     "output_type": "stream",
     "text": [
      "1 ________datatype <class 'int'>\n",
      "2.0 ________datatype <class 'float'>\n",
      "3j ________datatype <class 'complex'>\n",
      "[4] ________datatype <class 'list'>\n",
      "(5,) ________datatype <class 'tuple'>\n",
      "6 ________datatype <class 'str'>\n",
      "{'7'} ________datatype <class 'set'>\n",
      "{'8': 8} ________datatype <class 'dict'>\n",
      "range(0, 9) ________datatype <class 'range'>\n",
      "True ________datatype <class 'bool'>\n"
     ]
    }
   ],
   "source": [
    "lst = [1, 2.0, 3j, [4], tuple([5]) ,\"6\", {\"7\"}, {\"8\" : 8}, range(9), True]\n",
    "for i in lst :\n",
    "    print(i,type(i),sep=\" ________datatype \")"
   ]
  },
  {
   "cell_type": "markdown",
   "id": "ea4c2edf",
   "metadata": {},
   "source": [
    "### Q5. Using a while loop, verify if the number A is purely divisible by number B and if so then how many times it can be divisible."
   ]
  },
  {
   "cell_type": "markdown",
   "id": "a3e232b9",
   "metadata": {},
   "source": [
    "If the number A is purely divisible by B then on applying (%) Floor division (A % B) we get 0 as result else we will loop to find number of times B takes to subtract A until A > 0"
   ]
  },
  {
   "cell_type": "code",
   "execution_count": 32,
   "id": "f3074bee",
   "metadata": {},
   "outputs": [
    {
     "name": "stdout",
     "output_type": "stream",
     "text": [
      "2\n"
     ]
    }
   ],
   "source": [
    "A = 16\n",
    "B = 7\n",
    "if A % B != 0:\n",
    "    count = 0\n",
    "    while A > B :\n",
    "        A -= B\n",
    "        count += 1\n",
    "    print(count)\n",
    "        "
   ]
  },
  {
   "cell_type": "markdown",
   "id": "5954012c",
   "metadata": {},
   "source": [
    "### Q6. Create a list containing 25 int type data. Using for loop and if-else condition print if the element is divisible by 3 or not."
   ]
  },
  {
   "cell_type": "code",
   "execution_count": 37,
   "id": "2219829d",
   "metadata": {},
   "outputs": [
    {
     "name": "stdout",
     "output_type": "stream",
     "text": [
      "1 is not divisible by 3\n",
      "2 is not divisible by 3\n",
      "3 is divisible by 3\n",
      "4 is not divisible by 3\n",
      "5 is not divisible by 3\n",
      "6 is divisible by 3\n",
      "7 is not divisible by 3\n",
      "8 is not divisible by 3\n",
      "9 is divisible by 3\n",
      "10 is not divisible by 3\n",
      "11 is not divisible by 3\n",
      "12 is divisible by 3\n",
      "13 is not divisible by 3\n",
      "14 is not divisible by 3\n",
      "15 is divisible by 3\n",
      "16 is not divisible by 3\n",
      "17 is not divisible by 3\n",
      "18 is divisible by 3\n",
      "19 is not divisible by 3\n",
      "20 is not divisible by 3\n",
      "21 is divisible by 3\n",
      "22 is not divisible by 3\n",
      "23 is not divisible by 3\n",
      "24 is divisible by 3\n",
      "25 is not divisible by 3\n"
     ]
    }
   ],
   "source": [
    "lst = [i for i in range(1,26)]\n",
    "for i in lst:\n",
    "    if i % 3 == 0:\n",
    "        print(\"{} is divisible by 3\".format(i))\n",
    "    else :\n",
    "        print(\"{} is not divisible by 3\".format(i))"
   ]
  },
  {
   "cell_type": "markdown",
   "id": "bf363f2e",
   "metadata": {},
   "source": [
    "### Q7. What do you understand about mutable and immutable data types? Give examples for both showing this property."
   ]
  },
  {
   "cell_type": "markdown",
   "id": "05229076",
   "metadata": {},
   "source": [
    "#### Mutable Datatypes :\n",
    "These are the datatypes in python which do not supports mutability of its content means once the object is declared with some initial value its value can not be changed over time, although we can re-assign the the variable which result in shifting in its id() but we cannot modify the value in it. <br>\n",
    "Example :  <br> \n",
    "Numbers (Integer, Float, Complex) <br>\n",
    "          Tuples <br>\n",
    "          Strings <br>\n",
    "          Frozen Sets <br>"
   ]
  },
  {
   "cell_type": "code",
   "execution_count": 44,
   "id": "665792f0",
   "metadata": {},
   "outputs": [
    {
     "name": "stdout",
     "output_type": "stream",
     "text": [
      "2800911450480 2800911450480 2800911450480 2800911450480\n",
      "2800911450512 2800911450480\n"
     ]
    }
   ],
   "source": [
    "a = 5\n",
    "b = 5\n",
    "c = b\n",
    "print(id(a),id(b),id(c),id(5)) # same id means referring to same memory location\n",
    "b = 6\n",
    "print(id(b),id(c))"
   ]
  },
  {
   "cell_type": "code",
   "execution_count": 46,
   "id": "07b77495",
   "metadata": {},
   "outputs": [
    {
     "ename": "TypeError",
     "evalue": "'str' object does not support item assignment",
     "output_type": "error",
     "traceback": [
      "\u001b[1;31m---------------------------------------------------------------------------\u001b[0m",
      "\u001b[1;31mTypeError\u001b[0m                                 Traceback (most recent call last)",
      "Cell \u001b[1;32mIn [46], line 3\u001b[0m\n\u001b[0;32m      1\u001b[0m st \u001b[38;5;241m=\u001b[39m \u001b[38;5;124m\"\u001b[39m\u001b[38;5;124mhello\u001b[39m\u001b[38;5;124m\"\u001b[39m\n\u001b[0;32m      2\u001b[0m st \u001b[38;5;241m=\u001b[39m \u001b[38;5;124m\"\u001b[39m\u001b[38;5;124mworld\u001b[39m\u001b[38;5;124m\"\u001b[39m\n\u001b[1;32m----> 3\u001b[0m \u001b[43mst\u001b[49m\u001b[43m[\u001b[49m\u001b[38;5;241;43m0\u001b[39;49m\u001b[43m]\u001b[49m \u001b[38;5;241m=\u001b[39m \u001b[38;5;124m\"\u001b[39m\u001b[38;5;124ma\u001b[39m\u001b[38;5;124m\"\u001b[39m\n",
      "\u001b[1;31mTypeError\u001b[0m: 'str' object does not support item assignment"
     ]
    }
   ],
   "source": [
    "st = \"hello\"\n",
    "st = \"world\" # we can re-assign the variable\n",
    "st[0] = \"a\" # error because we can't modify the immutable string"
   ]
  },
  {
   "cell_type": "markdown",
   "id": "9fac7730",
   "metadata": {},
   "source": [
    "#### Immutable Datatypes :\n",
    "These are the datatypes in python which do supports mutability of its content means once the object is declared with some initial value its value can be changed over time.<br>\n",
    "Example :  <br> \n",
    "Numbers <br>Lists<br>\n",
    "Dictionaries<br>\n",
    "Sets"
   ]
  },
  {
   "cell_type": "code",
   "execution_count": 47,
   "id": "ee70921c",
   "metadata": {},
   "outputs": [
    {
     "name": "stdout",
     "output_type": "stream",
     "text": [
      "['h', 'e', 'l', 'l', 'o', 'earth']\n"
     ]
    }
   ],
   "source": [
    "ls = [\"h\",\"e\",\"l\",\"l\",\"o\",\"world\"]\n",
    "ls[5] = \"earth\" # changing value\n",
    "print(ls)"
   ]
  }
 ],
 "metadata": {
  "kernelspec": {
   "display_name": "Python 3 (ipykernel)",
   "language": "python",
   "name": "python3"
  },
  "language_info": {
   "codemirror_mode": {
    "name": "ipython",
    "version": 3
   },
   "file_extension": ".py",
   "mimetype": "text/x-python",
   "name": "python",
   "nbconvert_exporter": "python",
   "pygments_lexer": "ipython3",
   "version": "3.10.5"
  }
 },
 "nbformat": 4,
 "nbformat_minor": 5
}
